{
 "cells": [
  {
   "cell_type": "markdown",
   "metadata": {},
   "source": [
    "# PROJET GREP - Version étoilée"
   ]
  },
  {
   "cell_type": "markdown",
   "metadata": {},
   "source": [
    "###### Eliott Houget"
   ]
  },
  {
   "cell_type": "markdown",
   "metadata": {},
   "source": [
    "## Introduction"
   ]
  },
  {
   "cell_type": "markdown",
   "metadata": {},
   "source": [
    "Voici mon projet mygrep. Les parties les plus importantes sont :\n",
    "- le sommaire car il est le squelette de ma reflexion et de mon code.\n",
    "- la partie 2. car il y a toutes les idées.\n",
    "- la discussion autour du vide (cf. *4.B.c.i*) "
   ]
  },
  {
   "cell_type": "markdown",
   "metadata": {},
   "source": [
    "## Sommaire "
   ]
  },
  {
   "cell_type": "markdown",
   "metadata": {},
   "source": [
    "1. Conventions\n",
    "    - document capytale\n",
    "    - fonctions d'affichages\n",
    "    - int, char, lettre et meta_char\n",
    "2. Algorithme\n",
    "    1. Algorithme grossier\n",
    "    2. Algorithme détaillé\n",
    "    3. linéariser et délinéariser des jokers ?!\n",
    "    4. Pourquoi Berry-Sethi ?\n",
    "    5. *`main`*\n",
    "3. Expression régulière\n",
    "    1. Représentation \n",
    "        1. Arité des opérateurs\n",
    "            - *`arite`*\n",
    "        2. Définition du type **`arbre_t`**\n",
    "            - `arbre_s`\n",
    "            - *`liberer_arbre`*\n",
    "        3. Construction d'un arbre à partir de la notation polonaise inversée\n",
    "            - inserer un opérateur dans un arbre : *`inserer`*\n",
    "            - *`arboriser`*\n",
    "4. Construction d'un automate \n",
    "    1. Linéarisation d'une expression regulière\n",
    "        1. Compter les éléments utiles (lettres, jokers)\n",
    "            - *`compter_lettres`*\n",
    "            - *`compter_jokers`*\n",
    "        2. Linéariser\n",
    "            - *`lineariser`*\n",
    "            - *`lineariser_recursivement`*\n",
    "    2. Calcul des ensembles P, D et F\n",
    "        1. liste et ensemble de lettres \n",
    "            1. **`liste_lettres_t`**\n",
    "                - `liste_lettres_s`\n",
    "                - *`liberer_liste_lettres`*\n",
    "                - *`ajouter_lettre`*\n",
    "            2. **`ensemble_lettres_t`**\n",
    "                - *`union_ensemble_lettres`*\n",
    "        2. liste et ensemble de facteurs\n",
    "            1. **`facteurs_t`**\n",
    "                - `facteur_s`\n",
    "                - *`are_equal`*\n",
    "                - *`greater_than`*\n",
    "            2. **`liste_facteurs_t`**\n",
    "                - `liste_facteurs_s`\n",
    "                - *`liberer_liste_facteurs`*\n",
    "                - *`ajouter_facteur`*\n",
    "            3. **`ensemble_facteurs_t`**\n",
    "                - *`union_ensemble_facteurs`*\n",
    "        3. Vide et epsilon\n",
    "            1. Cas du langage vide\n",
    "            2. *`contient_epsilon`* \n",
    "        4. *`calculer_P`*\n",
    "        5. *`calculer_D`*\n",
    "        6. Calculer F\n",
    "            1. *`fusion`*\n",
    "            2. *`calculer_F`*\n",
    "    5. Construction de l'automate des facteurs\n",
    "        1. Automates Finis déterministes : **`afd_t`**\n",
    "            - `afd_s`\n",
    "            - *`liberer_afd`*\n",
    "            - *`creer_afd`*\n",
    "    4. Délinéariserisation\n",
    "        1. Automates finis \"généralisés\"\n",
    "            1. **`liste_entiers_t`**\n",
    "                - `liste_entiers_s`\n",
    "                - *`liberer_liste_entiers`*\n",
    "                - *`ajouter_entier`*\n",
    "            2. **`alphabet_t`**\n",
    "                - `alphabet_s`\n",
    "                - *`creer_alphabet`*\n",
    "                - *`creer_alphabet_recursivement`*\n",
    "            3. **`afg_t`**\n",
    "                - `struct afg_s`\n",
    "                - *`liberer_afg`*\n",
    "                - *`creer_afg`*\n",
    "        2. Délinéariser\n",
    "            - *`delineariser_afd`*\n",
    "            - *`delineariser_afd_recursivement`*\n",
    "    5. *`berry_sethi`*\n",
    "    6. *`construire_automate`*\n",
    "5. Lire un mot dans un automate fini \"généralisé\"\n",
    "    - *`modifier_tableau_avec_liste_entiers`*\n",
    "    - *`afg_reconnait`*\n",
    "6. Test\n",
    "    1. Question 2\n",
    "    2. Question 3\n",
    "    3. batterie de test supplémentaire\n",
    "7. Commentaires"
   ]
  },
  {
   "cell_type": "markdown",
   "metadata": {},
   "source": [
    "## 1. Conventions"
   ]
  },
  {
   "cell_type": "markdown",
   "metadata": {},
   "source": [
    "### Concernant ce document"
   ]
  },
  {
   "cell_type": "markdown",
   "metadata": {},
   "source": [
    "- Les __fonctions__ sont en italique et encadrée : *`fonction`*\n",
    "- Les __types du C__ sont en gras et encadrée : **`type`**\n",
    "- Les __types construits__ sont en gras, encadrée, et ont le suffixe *_t* : **`type_t`**\n",
    "- Les __structures__ sont encadrée et ont le suffixe *_s* : `structure_s`"
   ]
  },
  {
   "cell_type": "markdown",
   "metadata": {},
   "source": [
    "### Concernant les fonctions d'affichages"
   ]
  },
  {
   "cell_type": "markdown",
   "metadata": {},
   "source": [
    "Aucune fonction d'affichage ne sera fournie dans le code et aucune ne sera présentée ici. Néanmoins chaque type dispose de sa fonction d'affichage associée dans ma version de travail afin de réaliser un débuggage régulier et de qualité."
   ]
  },
  {
   "cell_type": "markdown",
   "metadata": {},
   "source": [
    "### int, char, lettre et meta_char"
   ]
  },
  {
   "cell_type": "markdown",
   "metadata": {},
   "source": [
    "- les **`int`** et les **`char`** sont les types C classiques et seront souvent mélangés, j'ai essayé le plus souvent de caster explicitement les types afin de clarifier le code au maximum.\n",
    "- On utilisera le terme `lettre` pour designer les éléments d'un alphabet (l'objet théorique).\n",
    "- les `meta_char` sont des variables de type **`char`** mais qui non pas vocation à être affichées et qui ne doivent pas rentrer en collision avec les autres caractères utilisés. On utilisera donc les éléments suivants dans le code :\n",
    "```C\n",
    "#define ascii_table_size 128\n",
    "#define first_meta_char (char)ascii_table_size\n",
    "\n",
    "int meta_char_to_int (char a) {\n",
    "    return (int)(a - first_meta_char);\n",
    "}\n",
    "```"
   ]
  },
  {
   "cell_type": "markdown",
   "metadata": {},
   "source": [
    "## 2. Algorithme"
   ]
  },
  {
   "cell_type": "markdown",
   "metadata": {},
   "source": [
    "### A. Algoritme grossier"
   ]
  },
  {
   "cell_type": "raw",
   "metadata": {},
   "source": [
    "1. construire l'automate A avec l'expression régulière\n",
    "2. Pour chaque ligne du fichier\n",
    "3.    Si la ligne est reconnue par A\n",
    "4.        afficher la ligne"
   ]
  },
  {
   "cell_type": "markdown",
   "metadata": {},
   "source": [
    "### B. Algorithme détaillé"
   ]
  },
  {
   "cell_type": "raw",
   "metadata": {},
   "source": [
    "1.  Construire l'arbre représentant l'expression régulière\n",
    "2.  n <- Compter le nombre de lettre et de joker \n",
    "3.  Linéariser l'expression regulière\n",
    "4.  Calculer P\n",
    "5.  Calculer D\n",
    "6.  Calculer F\n",
    "7.  A <- Créer un automate fini déterministe sans transition à n+1 états\n",
    "8.  Faire les branchements à l'aide de P, D et F\n",
    "9.  A' <- Délinéariser A\n",
    "10. Pour chaque ligne du fichier\n",
    "11.    Si la ligne est reconnu par A'\n",
    "12.        afficher la ligne"
   ]
  },
  {
   "cell_type": "markdown",
   "metadata": {},
   "source": [
    "### C. linéariser et délinéariser des jokers ?!"
   ]
  },
  {
   "cell_type": "markdown",
   "metadata": {},
   "source": [
    "Voilà la seule idée intéressante que j'apporte (le reste c'est l'algorithme Berry-Sethi classique implémenté en C). Lors de la linéarisation et du calcul des ensembles P, D et F, les jokers seront considérés comme des lettres \"classiques\". Ainsi une lors de la délinéarisation l'automate fini déterministe devient un automate fini \"généralisé\", car les jokers apparaissent comme des $\\Sigma$-transitions.\n",
    "\n",
    "Une $\\Sigma$-transitions est une transition qui reconnait toutes les lettres."
   ]
  },
  {
   "cell_type": "markdown",
   "metadata": {},
   "source": [
    "### D. Pourquoi Berry-Sethi ?"
   ]
  },
  {
   "cell_type": "markdown",
   "metadata": {},
   "source": [
    "Premièrement, j'ai fortement été influencé par le TP-C (j'ai commencé ce TP-DM le même soir). Deuxièmement, ça permet d'avoir des automates \"pas trop gros\", c'est-à-dire avec \"pas trop d'états\" (exactement le nombre de lettres et de jokers + 1 états). Le nombre d'états de l'automate créer est important car pour lire un mot m dans un automate fini \"généralisé\" à n états, on a une complexité temporelle en O(|m|n²). Troisièmement, c'est cool et pédagogique d'implementer Berry-Sethi en C."
   ]
  },
  {
   "cell_type": "markdown",
   "metadata": {},
   "source": [
    "### E. fonction *`main`*"
   ]
  },
  {
   "cell_type": "markdown",
   "metadata": {},
   "source": [
    "```C\n",
    "int main (int argc, char* argv[]) { // (1)\n",
    "\n",
    "    if (argc > 2) { // (2)\n",
    "        afg_t* automate = construire_automate(argv[1]); // (3)\n",
    "        ///// (4)\n",
    "        FILE* fichier = fopen(argv[2], \"r\");\n",
    "        size_t taille_zone_tampon = 256;\n",
    "        char* zone_tampon = malloc(sizeof(char) * taille_zone_tampon);\n",
    "        ///// (5)\n",
    "        while (getline(&zone_tampon, &taille_zone_tampon, fichier) != EOF) {\n",
    "            if (afg_reconnait(automate, zone_tampon)) {\n",
    "                printf(\"%s\", zone_tampon);\n",
    "            }\n",
    "        }\n",
    "        ///// (6)\n",
    "        free(zone_tampon);\n",
    "        fclose(fichier);\n",
    "        liberer_afg(automate);\n",
    "    }\n",
    "\n",
    "    return 0;\n",
    "}\n",
    "```"
   ]
  },
  {
   "cell_type": "markdown",
   "metadata": {},
   "source": [
    "1. cf. feuille \"Syntaxe : la fonction main\" \n",
    "2. On choisit de ne rien faire si il n'y a pas assez d'arguments, d'en ignorer s'il y en a trop et de laisser le programme planter si l'utilisateur fournie n'importe quoi\n",
    "3. l'argument 1 est l'expression regulière en notation polonaise fourni par l'utilisateur (pour le type **`afg_t`**, cf. *4.D.a.iii*; pour *`construire_automate`* cf. *4.F*)\n",
    "4. On ouvre le fichier en lecture, ici on fait le choix (arbitraire) d'allouer un buffer de taille 256 * 8  = 2048 bits, pour les lignes de plus de 256 caractères (\\n et \\0 compris) le comportement est indéfini.\n",
    "5. Ces lignes traduisent les lignes 10, 11 et 12 de l'algorithme donné en pseudo-code ci-dessus.\n",
    "6. Je m'engage à ce qu'il n'y ait aucune fuite mémoire."
   ]
  },
  {
   "cell_type": "markdown",
   "metadata": {},
   "source": [
    "On a donc besoin des librairies suivantes :\n",
    "```C\n",
    "#include <stddef.h> // pour le type size_t\n",
    "#include <stdlib.h> // pour malloc\n",
    "#include <stdio.h> // pour la gestion du fichier\n",
    "```"
   ]
  },
  {
   "cell_type": "markdown",
   "metadata": {},
   "source": [
    "## 3. Expression regulière"
   ]
  },
  {
   "cell_type": "markdown",
   "metadata": {},
   "source": [
    "### A. Représentation"
   ]
  },
  {
   "cell_type": "markdown",
   "metadata": {},
   "source": [
    "L'expression régulière donnée en paramètre est en notation polonaise inversée (notation postfixe) ainsi on va représenter notre expression comme un arbre dont les sommets intérieurs seront les opérateurs `@`, `|`, `*` et `?`, et les feuilles seront les lettres et les jokers `.`. Donc les expressions sont des arbres binaires étiquetés par des **`char`**."
   ]
  },
  {
   "cell_type": "markdown",
   "metadata": {},
   "source": [
    "#### a. Arité des opérateurs"
   ]
  },
  {
   "cell_type": "markdown",
   "metadata": {},
   "source": [
    "```C\n",
    "int arite (char c) {\n",
    "    switch (c) {\n",
    "        case '@': // Concaténation\n",
    "            return 2;\n",
    "        case '|': // Union\n",
    "            return 2;\n",
    "        case '*': // Etoile\n",
    "            return 1;\n",
    "        case '?': // Binaire : e? -> l'expression e zéro ou une fois\n",
    "            return 1;\n",
    "        case '.': // Joker : désigne n'importe quel caractère\n",
    "            return 0;\n",
    "        default:  // Lettre\n",
    "            return 0;\n",
    "    }\n",
    "}\n",
    "```"
   ]
  },
  {
   "cell_type": "markdown",
   "metadata": {},
   "source": [
    "Je profite de cette fonction qui s'explique elle-même pour présenter notre meilleur ami : le switch-case."
   ]
  },
  {
   "cell_type": "markdown",
   "metadata": {},
   "source": [
    "#### b. Définition du type arbre_t"
   ]
  },
  {
   "cell_type": "markdown",
   "metadata": {},
   "source": [
    "```C\n",
    "typedef struct arbre_s {\n",
    "    char c;\n",
    "    struct arbre_s* fils_gauche;\n",
    "    struct arbre_s* fils_droit;\n",
    "    int libertes; // indique le nombre de feuille encore libre\n",
    "} arbre_t;\n",
    "```"
   ]
  },
  {
   "cell_type": "markdown",
   "metadata": {},
   "source": [
    "Pas de surprise pour les trois premiers champs, le dernier va être utile lors de la construction de l'arbre."
   ]
  },
  {
   "cell_type": "markdown",
   "metadata": {},
   "source": [
    "```C\n",
    "void liberer_arbre (arbre_t* arbre) {\n",
    "    if (arbre != NULL) {\n",
    "        liberer_arbre(arbre->fils_gauche);\n",
    "        liberer_arbre(arbre->fils_droit);\n",
    "    }\n",
    "    free(arbre);\n",
    "}\n",
    "```"
   ]
  },
  {
   "cell_type": "markdown",
   "metadata": {},
   "source": [
    "Les fonctions de libérations seront fournis par souci d'exhaustivité mais jamais expliquées car triviales."
   ]
  },
  {
   "cell_type": "markdown",
   "metadata": {},
   "source": [
    "#### c. Construction d'un arbre à partir de la notation polonaise inversée"
   ]
  },
  {
   "cell_type": "markdown",
   "metadata": {},
   "source": [
    "```C\n",
    "arbre_t* inserer (arbre_t* arbre_courant, char c) {\n",
    "    if (arbre_courant == NULL) {\n",
    "        arbre_t* nouvelle_arbre = malloc(sizeof(arbre_t));\n",
    "        nouvelle_arbre->c = c;\n",
    "        nouvelle_arbre->fils_gauche = NULL;\n",
    "        nouvelle_arbre->fils_droit = NULL;\n",
    "        nouvelle_arbre->libertes = arite(c); // (1)\n",
    "        return nouvelle_arbre;\n",
    "    }\n",
    "    else {\n",
    "        switch (arbre_courant->libertes) {\n",
    "            case 2:\n",
    "                arbre_courant->fils_droit = inserer(arbre_courant->fils_droit, c);\n",
    "                if (arbre_courant->fils_droit->libertes == 0) arbre_courant->libertes--;\n",
    "                return arbre_courant;\n",
    "            case 1: // (2)\n",
    "                arbre_courant->fils_gauche = inserer(arbre_courant->fils_gauche, c);\n",
    "                if (arbre_courant->fils_gauche->libertes == 0) arbre_courant->libertes--;\n",
    "                return arbre_courant;\n",
    "            default: // (3)\n",
    "                if (arbre_courant->libertes == 0) \n",
    "                    fprintf(stderr,\"ERREUR : tentative d'insertion dans un arbre complet.\\n\");\n",
    "                else \n",
    "                    fprintf(stderr, \"ERREUR : le nombre de libertés de l'opérateur a la valeur interdite %d.\\n\", arbre_courant->libertes);\n",
    "                return arbre_courant;\n",
    "        }\n",
    "    }\n",
    "}\n",
    "```"
   ]
  },
  {
   "cell_type": "markdown",
   "metadata": {},
   "source": [
    "On procède récursivement pour inserer un opérateur (ou lettre) dans un arbre. Le cas de base est l'insertion dans l'arbre vide `NULL`. (1) L'arbre initialisé peut alors avoir autant de fils que l'arité de l'opérateur inseré le permet. Pour insérer dans un arbre non vide on regarde la liberté de sa racine, si ses deux fils sont libre alors on place d'abord à droite afin de respecter la reconstrution d'un arbre affiché par parcours postfixe. (2) **attention si un opérateur n'a qu'un fils celui-ci sera à gauche**. (3) le premier cas d'erreur peut être déclenché par l'utilisateur (pas doué). Le second indiquerait plutôt un problème dans le code (ça n'arrive jamais)"
   ]
  },
  {
   "cell_type": "markdown",
   "metadata": {},
   "source": [
    "```C\n",
    "arbre_t* arboriser (char* expression_polonaise_inverse) {\n",
    "    int index = strlen(expression_polonaise_inverse)-1;\n",
    "    arbre_t* arbre_courant = NULL;\n",
    "    while (index >= 0) {\n",
    "        arbre_courant = inserer(arbre_courant, expression_polonaise_inverse[index]);\n",
    "        index--;\n",
    "    }\n",
    "    return arbre_courant;\n",
    "}\n",
    "```"
   ]
  },
  {
   "cell_type": "markdown",
   "metadata": {},
   "source": [
    "Pour transformer l'expression polonaire inversé en arbre on insére caractère par caractère de droite à gauche.\n",
    "Donc on a besoin de string.h.\n",
    "```C\n",
    "#include <string.h> // pour strlen (oui juste pour ça)\n",
    "```"
   ]
  },
  {
   "cell_type": "markdown",
   "metadata": {},
   "source": [
    "## 4. Construction d'un automate"
   ]
  },
  {
   "cell_type": "markdown",
   "metadata": {},
   "source": [
    "### A. Linéarisation d'expression regulière"
   ]
  },
  {
   "cell_type": "markdown",
   "metadata": {},
   "source": [
    "#### a. Compter les éléments utiles (lettres, jokers)"
   ]
  },
  {
   "cell_type": "markdown",
   "metadata": {},
   "source": [
    "```C\n",
    "int compter_lettres (arbre_t* arbre) {\n",
    "    if (arbre == NULL) return 0;\n",
    "    else switch (arbre->c) {\n",
    "        case '@': \n",
    "            return compter_lettres(arbre->fils_droit) + compter_lettres(arbre->fils_gauche);\n",
    "        case '|': \n",
    "            return compter_lettres(arbre->fils_droit) + compter_lettres(arbre->fils_gauche);\n",
    "        case '*': \n",
    "            return compter_lettres(arbre->fils_gauche);\n",
    "        case '?': // Binaire : e? -> l'expression e zéro ou une fois\n",
    "            return compter_lettres(arbre->fils_gauche);\n",
    "        case '.': // Joker : désigne n'importe quel caractère\n",
    "            return 0;\n",
    "        default:  // Lettre\n",
    "            return 1;\n",
    "    }\n",
    "}\n",
    "\n",
    "int compter_jokers (arbre_t* arbre) {\n",
    "    if (arbre == NULL) return 0;\n",
    "    else switch (arbre->c) {\n",
    "        case '@': \n",
    "            return compter_jokers(arbre->fils_droit) + compter_jokers(arbre->fils_gauche);\n",
    "        case '|': \n",
    "            return compter_jokers(arbre->fils_droit) + compter_jokers(arbre->fils_gauche);\n",
    "        case '*': \n",
    "            return compter_jokers(arbre->fils_gauche);\n",
    "        case '?': // Binaire : e? -> l'expression e zéro ou une fois\n",
    "            return compter_jokers(arbre->fils_gauche);\n",
    "        case '.': // Joker : désigne n'importe quel caractère\n",
    "            return 1;\n",
    "        default:  // Lettre\n",
    "            return 0;\n",
    "    }\n",
    "}\n",
    "```"
   ]
  },
  {
   "cell_type": "markdown",
   "metadata": {},
   "source": [
    "Deux fonctions très similaires triviales. "
   ]
  },
  {
   "cell_type": "markdown",
   "metadata": {},
   "source": [
    "#### b. Linéariser"
   ]
  },
  {
   "cell_type": "markdown",
   "metadata": {},
   "source": [
    "```C\n",
    "char* lineariser (arbre_t* arbre) {\n",
    "    int nb_lettres = compter_lettres(arbre);\n",
    "    int nb_jokers = compter_jokers(arbre);\n",
    "    char* tableau_de_delinearisation = malloc(sizeof(char) * (nb_lettres+nb_jokers)); // (1)\n",
    "    int index = 0; // (2)\n",
    "    if (arbre != NULL) lineariser_recursivement(arbre, tableau_de_delinearisation, &index);\n",
    "    return tableau_de_delinearisation;\n",
    "}\n",
    "```"
   ]
  },
  {
   "cell_type": "markdown",
   "metadata": {},
   "source": [
    "```C\n",
    "void lineariser_recursivement (arbre_t* arbre, char* tab, int* index_ptr) {\n",
    "    assert(arbre != NULL);\n",
    "    switch (arbre->c) {\n",
    "        case '@': \n",
    "            lineariser_recursivement(arbre->fils_gauche, tab, index_ptr);\n",
    "            lineariser_recursivement(arbre->fils_droit, tab, index_ptr);\n",
    "            break;\n",
    "        case '|': \n",
    "            lineariser_recursivement(arbre->fils_gauche, tab, index_ptr);\n",
    "            lineariser_recursivement(arbre->fils_droit, tab, index_ptr);\n",
    "            break;\n",
    "        case '*': \n",
    "            lineariser_recursivement(arbre->fils_gauche, tab, index_ptr);\n",
    "            break;\n",
    "        case '?': // Binaire : e? -> l'expression e zéro ou une fois\n",
    "            lineariser_recursivement(arbre->fils_gauche, tab, index_ptr);\n",
    "            break;\n",
    "        case '.': // Joker : désigne n'importe quel caractère // (3)\n",
    "            tab[*index_ptr] = arbre->c;\n",
    "            arbre->c = first_meta_char + *index_ptr; // (4)\n",
    "            (*index_ptr)++;\n",
    "            break;\n",
    "        default:  // Lettre\n",
    "            tab[*index_ptr] = arbre->c;\n",
    "            arbre->c = first_meta_char + *index_ptr; // (4)\n",
    "            (*index_ptr)++;\n",
    "            break;\n",
    "    }\n",
    "}\n",
    "```"
   ]
  },
  {
   "cell_type": "markdown",
   "metadata": {},
   "source": [
    "1. Ce tableau est l'élément le plus important de ce couple de fonctions, l'arbre de l'expression regulière est toujours parcouru de la même manière, ainsi on peut construire un tableau qui relie la place du meta_char dans l'arbre linéarisé et la lettre (ou le joker) qu'il remplace. Cela sera utile pour délinéariser.\n",
    "2. Cette index est déclaré dans la fonction principal et on donne un pointeur vers celui-ci dans la fonction auxiliaire, cela permet d'avoir une variable \"globale\" pour tout appel de *`lineariser_recursivement`*\n",
    "3. Ce cas n'est pas utile à strictement parler, mais rend à mon sens le code plus clair pour un humain.\n",
    "4. Les meta_char font alors tout leur sens. Il ne sont pas des char que l'on souhaite manipuler mais les \"linéarisés\" des lettres et jokers de l'expression régulière.\n",
    "- (la fonctions \"auxiliaire\" est (évidemment) déclarée avant la fonction \"principale\" dans le .c, on ne le reprécisera pas dans la suite)"
   ]
  },
  {
   "cell_type": "markdown",
   "metadata": {},
   "source": [
    "On rajoute en en-tête \n",
    "```C\n",
    "#include <assert.h>\n",
    "```"
   ]
  },
  {
   "cell_type": "markdown",
   "metadata": {},
   "source": [
    "### B. Calcul des ensembles P, D et F"
   ]
  },
  {
   "cell_type": "markdown",
   "metadata": {},
   "source": [
    "#### a. liste et ensemble de lettres "
   ]
  },
  {
   "cell_type": "markdown",
   "metadata": {},
   "source": [
    "##### i. **`liste_lettres_t`**"
   ]
  },
  {
   "cell_type": "markdown",
   "metadata": {},
   "source": [
    "```C\n",
    "typedef struct liste_lettres_s { // (1)\n",
    "    char head;\n",
    "    struct liste_lettres_s* tail;\n",
    "} liste_lettres_t;\n",
    "\n",
    "void liberer_liste_lettres (liste_lettres_t* liste) {\n",
    "    if (liste != NULL) {\n",
    "        liberer_liste_lettres(liste->tail);\n",
    "        free(liste);\n",
    "    }\n",
    "}\n",
    "\n",
    "liste_lettres_t* ajouter_lettre (liste_lettres_t* liste, char lettre) { // (2)\n",
    "    liste_lettres_t* nouvelle_liste = malloc(sizeof(liste_lettres_t));\n",
    "    nouvelle_liste->head = lettre;\n",
    "    nouvelle_liste->tail = liste;\n",
    "    return nouvelle_liste;\n",
    "}\n",
    "```"
   ]
  },
  {
   "cell_type": "markdown",
   "metadata": {},
   "source": [
    "1. Construction d'un type de listes chainées classiques.\n",
    "2. Deux choses importantes sur cette fonction :\n",
    "    1. Elle renvoie une nouvelle liste, et ne modifie pas celle donnée en argument. On aurait pu implémenter une fonction void demandant un pointeur vers une liste en argument et modifier la cible du pointeur vers la nouvelle liste. Mais cette construction est important pour la suite.\n",
    "    2. On ne fait aucun test sur ce qui est ajouté, on a donc aucune hypothèse sur l'ordre ou la présence de doublons dans les éléments de la liste."
   ]
  },
  {
   "cell_type": "markdown",
   "metadata": {},
   "source": [
    "##### ii. **`ensemble_lettres_t`**"
   ]
  },
  {
   "cell_type": "markdown",
   "metadata": {},
   "source": [
    "```C\n",
    "typedef liste_lettres_t ensemble_lettres_t;\n",
    "```"
   ]
  },
  {
   "cell_type": "markdown",
   "metadata": {},
   "source": [
    "Oui, le type **`ensemble_lettres_t`** n'est qu'un renommage du type **`liste_lettres_t`**. Mais cela permet un code plus clair car les ensembles de lettres sont les listes de lettres contenant une famille strictement croissante."
   ]
  },
  {
   "cell_type": "markdown",
   "metadata": {},
   "source": [
    "```C\n",
    "ensemble_lettres_t* union_ensemble_lettres (ensemble_lettres_t* ensemble_lettres1, ensemble_lettres_t* ensemble_lettres2) {\n",
    "    if (ensemble_lettres1 != NULL && ensemble_lettres2 != NULL) { // (1)\n",
    "        if (ensemble_lettres1->head == ensemble_lettres2->head) { // (A)\n",
    "            return ajouter_lettre(union_ensemble_lettres(ensemble_lettres1->tail, ensemble_lettres2->tail), ensemble_lettres2->head);\n",
    "        }\n",
    "        else if (ensemble_lettres1->head < ensemble_lettres2->head) { // (B)\n",
    "            return ajouter_lettre(union_ensemble_lettres(ensemble_lettres1->tail, ensemble_lettres2), ensemble_lettres1->head);\n",
    "        }\n",
    "        else { // (C)\n",
    "            return ajouter_lettre(union_ensemble_lettres(ensemble_lettres1, ensemble_lettres2->tail), ensemble_lettres2->head);\n",
    "        }\n",
    "    }\n",
    "    else if (ensemble_lettres1 == NULL && ensemble_lettres2 == NULL) { // (2)\n",
    "        return NULL;\n",
    "    }\n",
    "    else if (ensemble_lettres1 == NULL) { // (3)\n",
    "        return ajouter_lettre(union_ensemble_lettres(ensemble_lettres1, ensemble_lettres2->tail), ensemble_lettres2->head);\n",
    "    }\n",
    "    else { // (4)\n",
    "        return ajouter_lettre(union_ensemble_lettres(ensemble_lettres1->tail, ensemble_lettres2), ensemble_lettres1->head);\n",
    "    }\n",
    "}\n",
    "```"
   ]
  },
  {
   "cell_type": "markdown",
   "metadata": {},
   "source": [
    "- Justifions et expliquons la correction de cette fonction sous l'hypothèse que les ensembles donnés en argument sont comme décrits ci-dessus. On procède récursivement par disjonction de cas en fonction de si les listes sont vides ou non (NULL ou non).\n",
    "1. Si les deux listes sont non vides\n",
    "    1. Si les deux listes commencent par la même lettres, alors on jette la première lettre de la liste 1 et on ajoute la première lettre de la liste 2. Plus précisement on ajoute la lettre en tête de l'union du reste des deux listes. Cela permet d'assurer qu'il n'y aura pas de doublons et que les plus petites lettres (dans l'ordre lexicographique) seront en début de liste, c'est-à-dire que la liste renvoyée est strictement croissante. Voilà pourquoi on a construit *`ajouter_lettre`* ainsi.\n",
    "    2. Si la première lettre de la liste 1 est plus petite que celle de la liste 2, alors on l'ajoute en tête de l'union de la liste 2 et du reste de la liste 1.\n",
    "    3. même chose que B en symétrique.\n",
    "2. Faire l'union de deux ensembles vides donne l'ensemble vide.\n",
    "3. Par les test précédents on est sûr que ensemble_lettres2 n'est pas vide alors on peut ajouter sa première lettre.\n",
    "4. même chose que 3 en symétrique."
   ]
  },
  {
   "cell_type": "markdown",
   "metadata": {},
   "source": [
    "#### b. liste et ensemble de facteurs"
   ]
  },
  {
   "cell_type": "markdown",
   "metadata": {},
   "source": [
    "##### i. **`facteurs_t`**"
   ]
  },
  {
   "cell_type": "markdown",
   "metadata": {},
   "source": [
    "```C\n",
    "typedef struct facteur_s {\n",
    "    char first;\n",
    "    char second;\n",
    "} facteur_t;\n",
    "\n",
    "bool are_equal (facteur_t facteur1, facteur_t facteur2) {\n",
    "    return (facteur1.first == facteur2.first) && (facteur1.second == facteur2.second);\n",
    "}\n",
    "\n",
    "bool greater_than (facteur_t facteur1, facteur_t facteur2) {\n",
    "    if (facteur1.first > facteur2.first) return true;\n",
    "    else if (facteur1.first == facteur2.first) {\n",
    "        return facteur1.second > facteur2.second; \n",
    "    }\n",
    "    else return false;\n",
    "}\n",
    "```"
   ]
  },
  {
   "cell_type": "markdown",
   "metadata": {},
   "source": [
    "Avant de faire des listes et ensembles de facteurs, il nous faut construire un type **`facteur_t`** et des outils pour le manipuler. On peut comparer des **`char`** avec les opérateurs classiques car ce ne sont que des \"int cachés\" mais il nous faut réimplémenter des comparateur pour ce nouveau type. "
   ]
  },
  {
   "cell_type": "markdown",
   "metadata": {},
   "source": [
    "##### ii. **`liste_facteurs_t`**"
   ]
  },
  {
   "cell_type": "markdown",
   "metadata": {},
   "source": [
    "```C\n",
    "typedef struct liste_facteurs_s {\n",
    "    facteur_t head;\n",
    "    struct liste_facteurs_s* tail;\n",
    "} liste_facteurs_t;\n",
    "\n",
    "void liberer_liste_facteurs (liste_facteurs_t* liste) {\n",
    "    if (liste != NULL) {\n",
    "        liberer_liste_facteurs(liste->tail);\n",
    "        free(liste);\n",
    "    }\n",
    "}\n",
    "\n",
    "liste_facteurs_t* ajouter_facteur (liste_facteurs_t* liste, facteur_t facteur) {\n",
    "    liste_facteurs_t* nouvelle_liste = malloc(sizeof(liste_facteurs_t));\n",
    "    nouvelle_liste->head = facteur;\n",
    "    nouvelle_liste->tail = liste;\n",
    "    return nouvelle_liste;\n",
    "}\n",
    "```"
   ]
  },
  {
   "cell_type": "markdown",
   "metadata": {},
   "source": [
    "Même commentaires que pour les listes de lettres (cf. 4.B.a.i)."
   ]
  },
  {
   "cell_type": "markdown",
   "metadata": {},
   "source": [
    "##### iii. **`ensemble_facteurs_t`**"
   ]
  },
  {
   "cell_type": "markdown",
   "metadata": {},
   "source": [
    "```C\n",
    "typedef liste_facteurs_t ensemble_facteurs_t;\n",
    "// Les ensembles de facteurs sont les listes de facteurs contenants une famille strictement croissante\n",
    "\n",
    "ensemble_facteurs_t* union_ensemble_facteurs (ensemble_facteurs_t* ensemble_facteurs1, ensemble_facteurs_t* ensemble_facteurs2) {\n",
    "    if (ensemble_facteurs1 != NULL && ensemble_facteurs2 != NULL) {\n",
    "        if (are_equal(ensemble_facteurs1->head, ensemble_facteurs2->head)) {\n",
    "            ensemble_facteurs1 = ensemble_facteurs1->tail;\n",
    "            return ajouter_facteur(union_ensemble_facteurs(ensemble_facteurs1, ensemble_facteurs2->tail), ensemble_facteurs2->head);\n",
    "        }\n",
    "        else if (greater_than(ensemble_facteurs1->head, ensemble_facteurs2->head)) {\n",
    "            return ajouter_facteur(union_ensemble_facteurs(ensemble_facteurs1->tail, ensemble_facteurs2), ensemble_facteurs1->head);\n",
    "        }\n",
    "        else {\n",
    "            return ajouter_facteur(union_ensemble_facteurs(ensemble_facteurs1, ensemble_facteurs2->tail), ensemble_facteurs2->head);\n",
    "        }\n",
    "    }\n",
    "    else if (ensemble_facteurs1 == NULL && ensemble_facteurs2 == NULL) {\n",
    "        return NULL;\n",
    "    }\n",
    "    else if (ensemble_facteurs1 == NULL) {\n",
    "        return ajouter_facteur(union_ensemble_facteurs(ensemble_facteurs1, ensemble_facteurs2->tail), ensemble_facteurs2->head);\n",
    "    }\n",
    "    else {\n",
    "        return ajouter_facteur(union_ensemble_facteurs(ensemble_facteurs1->tail, ensemble_facteurs2), ensemble_facteurs1->head);\n",
    "    }\n",
    "}\n",
    "```"
   ]
  },
  {
   "cell_type": "markdown",
   "metadata": {},
   "source": [
    "Même chose que pour les ensembles de lettres."
   ]
  },
  {
   "cell_type": "markdown",
   "metadata": {},
   "source": [
    "#### c. Vide et epsilon"
   ]
  },
  {
   "cell_type": "markdown",
   "metadata": {},
   "source": [
    "##### i.  Cas du langage vide"
   ]
  },
  {
   "cell_type": "markdown",
   "metadata": {},
   "source": [
    "Aucune expression régulière avec `@`, `|`, `*`, `?`, `.` et des lettres ne représente le langage vide. Seul l'expression régulière vide représente le langage vide. De plus `./mygrep '' entree.txt` doit produire le même résultat que `grep -E '^$' entree.txt`, c'est-à-dire afficher les lignes ne contenant que les caractère \\n ou aucun caractère. Or la construction de l'automate présenté fait que l'expression vide `''` créer un arbre vide (NULL) et par suite un automate à un seul état initiale mais pas final. Par conséquence, on a pas besoin d'implémenter une fonction *`est_vide`* comme on s'attendrait à le faire pour calculer P, D, et F. Pour savoir si l'automate dérivé de l'arbre NULL reconnait le mot vide (c'est-à-dire \"\\n\\0\" ou \"\\0\") on rajoute \n",
    "```C\n",
    "if (afg->taille_Q == 1 && (mot[0] == '\\n' || mot[0] == '\\0')) return true;\n",
    "```\n",
    "à *`afg_reconnait`*."
   ]
  },
  {
   "cell_type": "markdown",
   "metadata": {},
   "source": [
    "##### ii. *`contient_epsilon`*"
   ]
  },
  {
   "cell_type": "markdown",
   "metadata": {},
   "source": [
    "```C\n",
    "bool contient_epsilon (arbre_t* arbre) {\n",
    "    if (arbre == NULL) return false;\n",
    "    else switch (arbre->c) {\n",
    "        case '@': // Concaténation\n",
    "            return contient_epsilon(arbre->fils_gauche) && contient_epsilon(arbre->fils_droit);\n",
    "        case '|': // Union\n",
    "            return contient_epsilon(arbre->fils_gauche) || contient_epsilon(arbre->fils_droit);\n",
    "        case '*': // Etoile\n",
    "            return true;\n",
    "        case '?': // Binaire : e? -> l'expression e zéro ou une fois\n",
    "            return true;\n",
    "        case '.': // Joker : désigne n'importe quel caractère\n",
    "            return false;\n",
    "        default:  // Lettre\n",
    "            return false;\n",
    "    }\n",
    "}\n",
    "```"
   ]
  },
  {
   "cell_type": "markdown",
   "metadata": {},
   "source": [
    "Pas de surprise pour la constuction de cette fonction. À noter que *e?* est la même chose que *e|$\\epsilon$* donc sa gestion ne pose pas de problème."
   ]
  },
  {
   "cell_type": "markdown",
   "metadata": {},
   "source": [
    "#### d. *`calculer_P`*"
   ]
  },
  {
   "cell_type": "markdown",
   "metadata": {},
   "source": [
    "```C\n",
    "ensemble_lettres_t* calculer_P (arbre_t* arbre) {\n",
    "    if (arbre == NULL) return NULL;\n",
    "    else switch (arbre->c) {\n",
    "        ensemble_lettres_t* P_gauche; // (1)\n",
    "        ensemble_lettres_t* P_droit;\n",
    "        ensemble_lettres_t* P;\n",
    "        case '@': // Concaténation // (2)\n",
    "            P_gauche = calculer_P(arbre->fils_gauche); // (A)\n",
    "            if (contient_epsilon(arbre->fils_gauche)) { // (B) \n",
    "                P_droit = calculer_P(arbre->fils_droit);\n",
    "                P = union_ensemble_lettres(P_gauche, P_droit);\n",
    "                liberer_liste_lettres(P_gauche); // (C)\n",
    "                liberer_liste_lettres(P_droit);\n",
    "                return P;\n",
    "            }\n",
    "            return P_gauche;\n",
    "        case '|': // Union\n",
    "            P_gauche = calculer_P(arbre->fils_gauche);\n",
    "            P_droit = calculer_P(arbre->fils_droit);\n",
    "            P = union_ensemble_lettres(P_gauche, P_droit);\n",
    "            liberer_liste_lettres(P_gauche);\n",
    "            liberer_liste_lettres(P_droit);\n",
    "            return P;\n",
    "        case '*': // Etoile\n",
    "            return calculer_P(arbre->fils_gauche);\n",
    "        case '?': // Binaire : e? -> l'expression e zéro ou une fois\n",
    "            return calculer_P(arbre->fils_gauche);\n",
    "        case '.': // Joker : désigne n'importe quel caractère\n",
    "            return ajouter_lettre(NULL, '.');\n",
    "        default:  // Lettre\n",
    "            return ajouter_lettre(NULL, arbre->c);\n",
    "    }\n",
    "}\n",
    "```"
   ]
  },
  {
   "cell_type": "markdown",
   "metadata": {},
   "source": [
    "1. petite particularité la syntaxe C, on ne peut pas déclarer de variables dans le scope de case, on déclare donc tout ce qui nous sera utile pour la suite.\n",
    "2. Détaillons (arbitrairement) le cas de la concaténation `@` :\n",
    "    1. l'ensemble les premières lettres de e1@e2 contient les premières lettres de e1 donc on les calculs.\n",
    "    2. Si $\\epsilon \\in$ e1 alors on rajoute les premières lettres de e2\n",
    "    3. Et on oublie pas de prévenir les fuites mémoires "
   ]
  },
  {
   "cell_type": "markdown",
   "metadata": {},
   "source": [
    "#### d. *`calculer_D`*"
   ]
  },
  {
   "cell_type": "markdown",
   "metadata": {},
   "source": [
    "```C\n",
    "ensemble_lettres_t* calculer_D (arbre_t* arbre) {\n",
    "    if (arbre == NULL) return NULL;\n",
    "    else switch (arbre->c) {\n",
    "        ensemble_lettres_t* D_gauche;\n",
    "        ensemble_lettres_t* D_droit;\n",
    "        ensemble_lettres_t* D;\n",
    "        case '@': // Concaténation\n",
    "            D_droit = calculer_D(arbre->fils_droit);\n",
    "            if (contient_epsilon(arbre->fils_droit)) {\n",
    "                D_gauche = calculer_D(arbre->fils_gauche);\n",
    "                D = union_ensemble_lettres(D_gauche, D_droit);\n",
    "                liberer_liste_lettres(D_gauche); \n",
    "                liberer_liste_lettres(D_droit);\n",
    "                return D;\n",
    "            }\n",
    "            return D_droit;\n",
    "        case '|': // Union\n",
    "            D_gauche = calculer_D(arbre->fils_gauche);\n",
    "            D_droit = calculer_D(arbre->fils_droit);\n",
    "            D = union_ensemble_lettres(D_gauche, D_droit);\n",
    "            liberer_liste_lettres(D_gauche);\n",
    "            liberer_liste_lettres(D_droit);\n",
    "            return D;\n",
    "        case '*': // Etoile\n",
    "            return calculer_D(arbre->fils_gauche);\n",
    "        case '?': // Binaire : e? -> l'expression e zéro ou une fois\n",
    "            return calculer_D(arbre->fils_gauche);\n",
    "        case '.': // Joker : désigne n'importe quel caractère\n",
    "            return ajouter_lettre(NULL, '.');\n",
    "        default:  // Lettre\n",
    "            return ajouter_lettre(NULL, arbre->c);\n",
    "    }\n",
    "}\n",
    "```"
   ]
  },
  {
   "cell_type": "markdown",
   "metadata": {},
   "source": [
    "*chercher-remplacer P par D*"
   ]
  },
  {
   "cell_type": "markdown",
   "metadata": {},
   "source": [
    "#### e. Calculer F"
   ]
  },
  {
   "cell_type": "markdown",
   "metadata": {},
   "source": [
    "##### i. *`fusion`*"
   ]
  },
  {
   "cell_type": "markdown",
   "metadata": {},
   "source": [
    "```C\n",
    "ensemble_facteurs_t* fusion (ensemble_lettres_t* ensemble_lettres1, ensemble_lettres_t* ensemble_lettres2) {\n",
    "    ensemble_facteurs_t* ensemble_facteurs = NULL;\n",
    "    while (ensemble_lettres1 != NULL) {\n",
    "        ensemble_lettres_t* ensemble_lettres2_courant = ensemble_lettres2;\n",
    "        while (ensemble_lettres2_courant != NULL) {\n",
    "            facteur_t facteur = {ensemble_lettres1->head, ensemble_lettres2_courant->head};\n",
    "            ensemble_facteurs = ajouter_facteur(ensemble_facteurs, facteur);\n",
    "            ensemble_lettres2_courant = ensemble_lettres2_courant->tail;\n",
    "        }\n",
    "        ensemble_lettres1 = ensemble_lettres1->tail;\n",
    "    }\n",
    "    return ensemble_facteurs;\n",
    "}\n",
    "```"
   ]
  },
  {
   "cell_type": "markdown",
   "metadata": {},
   "source": [
    "Produit cartésien classique. Les hypothèses sur l'ensemble de facteurs renvoyé sont vérifiées grâce aux hypothèses sur les ensembles de lettres donnés en argument."
   ]
  },
  {
   "cell_type": "markdown",
   "metadata": {},
   "source": [
    "##### ii. *`calculer_F`*"
   ]
  },
  {
   "cell_type": "markdown",
   "metadata": {},
   "source": [
    "```C\n",
    "ensemble_facteurs_t* calculer_F (arbre_t* arbre) {\n",
    "    if (arbre == NULL) return NULL;\n",
    "    else switch (arbre->c) {\n",
    "        ensemble_lettres_t* D_gauche;\n",
    "        ensemble_lettres_t* P_droit;\n",
    "        ensemble_facteurs_t* F_milieu;\n",
    "        ensemble_facteurs_t* F_gauche;\n",
    "        ensemble_facteurs_t* F_droit;\n",
    "        ensemble_facteurs_t* F_exterieur;\n",
    "        ensemble_facteurs_t* F;\n",
    "        case '@': // Concaténation\n",
    "            D_gauche = calculer_D(arbre->fils_gauche);\n",
    "            P_droit = calculer_P(arbre->fils_droit);\n",
    "            F_milieu = fusion(D_gauche, P_droit);\n",
    "            liberer_liste_lettres(D_gauche);\n",
    "            liberer_liste_lettres(P_droit);\n",
    "            F_gauche = calculer_F(arbre->fils_gauche);\n",
    "            F_droit = calculer_F(arbre->fils_droit);\n",
    "            F_exterieur = union_ensemble_facteurs(F_gauche, F_droit);\n",
    "            liberer_liste_facteurs(F_gauche);\n",
    "            liberer_liste_facteurs(F_droit);\n",
    "            F = union_ensemble_facteurs(F_exterieur, F_milieu);\n",
    "            liberer_liste_facteurs(F_exterieur);\n",
    "            liberer_liste_facteurs(F_milieu);\n",
    "            return F;\n",
    "        case '|': // Union\n",
    "            F_gauche = calculer_F(arbre->fils_gauche);\n",
    "            F_droit = calculer_F(arbre->fils_droit);\n",
    "            F = union_ensemble_facteurs(F_gauche, F_droit);\n",
    "            liberer_liste_facteurs(F_gauche);\n",
    "            liberer_liste_facteurs(F_droit);\n",
    "            return F;\n",
    "        case '*': // Etoile\n",
    "            D_gauche = calculer_D(arbre->fils_gauche);\n",
    "            P_droit = calculer_P(arbre->fils_gauche); // non, il n'y pas d'erreur sur cette ligne.\n",
    "            F_milieu = fusion(D_gauche, P_droit);\n",
    "            liberer_liste_lettres(D_gauche);\n",
    "            liberer_liste_lettres(P_droit);\n",
    "            F_exterieur = calculer_F(arbre->fils_gauche);\n",
    "            F = union_ensemble_facteurs(F_exterieur, F_milieu);\n",
    "            liberer_liste_facteurs(F_milieu);\n",
    "            liberer_liste_facteurs(F_exterieur);\n",
    "            return F;\n",
    "        case '?': // Binaire : e? -> l'expression e zéro ou une fois\n",
    "            return calculer_F(arbre->fils_gauche);\n",
    "        case '.': // Joker : désigne n'importe quel caractère\n",
    "            return NULL;\n",
    "        default:  // Lettre\n",
    "            return NULL;\n",
    "    }\n",
    "}\n",
    "```"
   ]
  },
  {
   "cell_type": "markdown",
   "metadata": {},
   "source": [
    "Calcul récursif de l'ensemble des facteurs de deux lettres comme détaillé dans le cours."
   ]
  },
  {
   "cell_type": "markdown",
   "metadata": {},
   "source": [
    "### C. Construction de l'automate des facteurs"
   ]
  },
  {
   "cell_type": "markdown",
   "metadata": {},
   "source": [
    "#### a. Automates Finis déterministes : **`afd_t`**"
   ]
  },
  {
   "cell_type": "markdown",
   "metadata": {},
   "source": [
    "```C\n",
    "typedef struct afd_s {\n",
    "    int taille_Sigma;\n",
    "    int taille_Q;\n",
    "    int initial;\n",
    "    bool* finaux;\n",
    "    int** delta;\n",
    "} afd_t;\n",
    "\n",
    "void liberer_afd (afd_t* afd) {\n",
    "    free(afd->finaux);\n",
    "    for (int q = 0; q < afd->taille_Q; q++) {\n",
    "        free(afd->delta[q]);\n",
    "    }\n",
    "    free(afd->delta);\n",
    "    free(afd);\n",
    "}\n",
    "\n",
    "afd_t* creer_afd (int taille_Sigma, int taille_Q) {\n",
    "    afd_t* afd = malloc(sizeof(afd_t));\n",
    "    afd->taille_Sigma = taille_Sigma;\n",
    "    afd->taille_Q = taille_Q;\n",
    "    afd->initial = 0; // (1)\n",
    "    afd->finaux = malloc(sizeof(bool) * taille_Q);\n",
    "    afd->delta = malloc(sizeof(int*) * taille_Q);\n",
    "    for (int q = 0; q < taille_Q; q++) {\n",
    "        afd->finaux[q] = false;\n",
    "        afd->delta[q] = malloc(sizeof(int) * taille_Sigma);\n",
    "        for (int a = 0; a < taille_Sigma; a++) {\n",
    "            afd->delta[q][a] = -1; // (2)\n",
    "        }\n",
    "    }\n",
    "    return afd;\n",
    "}\n",
    "```"
   ]
  },
  {
   "cell_type": "markdown",
   "metadata": {},
   "source": [
    "1. L'état initial est par convention 0.\n",
    "2. l'automate n'est pas complet; les transitions non définies sont initialisées vers \"l'état\" -1."
   ]
  },
  {
   "cell_type": "markdown",
   "metadata": {},
   "source": [
    "### D. Délinéariserisation"
   ]
  },
  {
   "cell_type": "markdown",
   "metadata": {},
   "source": [
    "#### a. Automates finis \"généralisés\""
   ]
  },
  {
   "cell_type": "markdown",
   "metadata": {},
   "source": [
    "##### i. **`liste_entiers_t`**"
   ]
  },
  {
   "cell_type": "markdown",
   "metadata": {},
   "source": [
    "```C\n",
    "typedef struct liste_entiers_s {\n",
    "    int head;\n",
    "    struct liste_entiers_s* tail;\n",
    "} liste_entiers_t;\n",
    "\n",
    "void liberer_liste_entiers (liste_entiers_t* liste) {\n",
    "    if (liste != NULL) {\n",
    "        liberer_liste_entiers(liste->tail);\n",
    "        free(liste);\n",
    "    }\n",
    "}\n",
    "\n",
    "liste_entiers_t* ajouter_entier (liste_entiers_t* liste, int entier) {\n",
    "    liste_entiers_t* nouvelle_liste = malloc(sizeof(liste_entiers_t));\n",
    "    nouvelle_liste->head = entier;\n",
    "    nouvelle_liste->tail = liste;\n",
    "    return nouvelle_liste;\n",
    "}\n",
    "```"
   ]
  },
  {
   "cell_type": "markdown",
   "metadata": {},
   "source": [
    "Même chose que pour **`liste_lettres_t`** et **`liste_facteurs_t`**."
   ]
  },
  {
   "cell_type": "markdown",
   "metadata": {},
   "source": [
    "##### ii. **`alphabet_t`**"
   ]
  },
  {
   "cell_type": "markdown",
   "metadata": {},
   "source": [
    "```C\n",
    "typedef struct alphabet_s {\n",
    "    int taille;\n",
    "    int lettres_to_index[ascii_table_size];\n",
    "} alphabet_t;\n",
    "\n",
    "alphabet_t* creer_alphabet (arbre_t* arbre) {\n",
    "    alphabet_t* alphabet = malloc(sizeof(alphabet_t));\n",
    "    alphabet->taille = 0;\n",
    "    for (int k = 0; k < ascii_table_size; k++) alphabet->lettres_to_index[k] = -1;\n",
    "    int index = 0;\n",
    "    if (arbre != NULL) creer_alphabet_recursivement(arbre, alphabet, &index);\n",
    "    return alphabet;\n",
    "}\n",
    "\n",
    "void creer_alphabet_recursivement(arbre_t* arbre, alphabet_t* alphabet, int* index_ptr) {\n",
    "    switch (arbre->c) {\n",
    "        case '@': // Concaténation\n",
    "            creer_alphabet_recursivement(arbre->fils_gauche,alphabet, index_ptr);\n",
    "            creer_alphabet_recursivement(arbre->fils_droit,alphabet, index_ptr);\n",
    "            break;\n",
    "        case '|': // Union\n",
    "            creer_alphabet_recursivement(arbre->fils_gauche,alphabet, index_ptr);\n",
    "            creer_alphabet_recursivement(arbre->fils_droit,alphabet, index_ptr);\n",
    "            break;\n",
    "        case '*': // Etoile\n",
    "            creer_alphabet_recursivement(arbre->fils_gauche,alphabet, index_ptr);\n",
    "            break;\n",
    "        case '?': // Binaire : e? -> l'expression e zéro ou une fois\n",
    "            creer_alphabet_recursivement(arbre->fils_gauche,alphabet, index_ptr);\n",
    "            break;\n",
    "        case '.': // Joker : désigne n'importe quel caractère\n",
    "            break;\n",
    "        default:  // Lettre\n",
    "            if (alphabet->lettres_to_index[(int)arbre->c] == -1) {\n",
    "                alphabet->lettres_to_index[(int)arbre->c] = *index_ptr;\n",
    "                alphabet->taille++;\n",
    "                (*index_ptr)++;\n",
    "            }\n",
    "            break;\n",
    "    }\n",
    "}\n",
    "```"
   ]
  },
  {
   "cell_type": "markdown",
   "metadata": {},
   "source": [
    "On crée un dictionnaire où les clés sont les lettres et les valeurs sont l'index dans l'alphabet."
   ]
  },
  {
   "cell_type": "markdown",
   "metadata": {},
   "source": [
    "##### iii. **`afg_t`**"
   ]
  },
  {
   "cell_type": "markdown",
   "metadata": {},
   "source": [
    "```C\n",
    "typedef struct afg_s {\n",
    "    // Automate Fini \"Généralisé\" (particulier)\n",
    "    // particulier car il possède toujours un unique état initial \n",
    "    // et seul des lettres ou des sigma-transition sont possibles\n",
    "    alphabet_t* sigma;\n",
    "    int taille_Q;\n",
    "    bool* initiaux;\n",
    "    bool* finaux;\n",
    "    liste_entiers_t*** delta; // (1)\n",
    "    liste_entiers_t** sigma_transitions; // (2)\n",
    "} afg_t;\n",
    "\n",
    "void liberer_afg (afg_t* afg) {\n",
    "    free(afg->initiaux);\n",
    "    free(afg->finaux);\n",
    "    for (int q = 0; q < afg->taille_Q; q++) {\n",
    "        for (int a = 0; a < afg->sigma->taille; a++) {\n",
    "            liberer_liste_entiers(afg->delta[q][a]);\n",
    "        }\n",
    "        liberer_liste_entiers(afg->sigma_transitions[q]);\n",
    "        free(afg->delta[q]);\n",
    "    }\n",
    "    free(afg->sigma);\n",
    "    free(afg->sigma_transitions);\n",
    "    free(afg->delta);\n",
    "    free(afg);\n",
    "}\n",
    "```"
   ]
  },
  {
   "cell_type": "markdown",
   "metadata": {},
   "source": [
    "1. Les transitions forment une matrice listes d'états, à la ligne $q$ et à la colonne $a$, on a la liste $\\delta (q,a)$, $a$ n'est pas directement la lettre mais son index dans l'alphabet sigma.\n",
    "2. sigma_transition\\[$q$\\] est la liste des états d'arrivés des $\\Sigma$-transitions partant de l'état $q$."
   ]
  },
  {
   "cell_type": "markdown",
   "metadata": {},
   "source": [
    "```C\n",
    "afg_t* creer_afg (alphabet_t* sigma, int taille_Q) {\n",
    "    afg_t* afg = malloc(sizeof(afg_t));\n",
    "    afg->taille_Q = taille_Q;\n",
    "    afg->sigma = sigma;\n",
    "    afg->initiaux = malloc(sizeof(bool) * taille_Q);\n",
    "    afg->finaux = malloc(sizeof(bool) * taille_Q);\n",
    "    afg->delta = malloc(sizeof(liste_entiers_t**) * taille_Q);\n",
    "    afg->sigma_transitions = malloc(sizeof(liste_entiers_t*) * taille_Q);\n",
    "    for (int q = 0; q < taille_Q; q++) {\n",
    "        afg->initiaux[q] = false;\n",
    "        afg->finaux[q] = false;\n",
    "        afg->delta[q] = malloc(sizeof(liste_entiers_t*) * afg->sigma->taille);\n",
    "        afg->sigma_transitions[q] = NULL;\n",
    "        for (int a = 0; a < sigma->taille; a++) {\n",
    "            afg->delta[q][a] = NULL;\n",
    "        }\n",
    "    }\n",
    "    return afg;\n",
    "}\n",
    "\n",
    "```"
   ]
  },
  {
   "cell_type": "markdown",
   "metadata": {},
   "source": [
    "On initialise proprement chaque champs du type **`afg_t`**. Il est notatemment important d'initialiser les listes à `NULL`."
   ]
  },
  {
   "cell_type": "markdown",
   "metadata": {},
   "source": [
    "#### b. Délinéariser"
   ]
  },
  {
   "cell_type": "markdown",
   "metadata": {},
   "source": [
    "```C\n",
    "afg_t* delineariser_afd (afd_t* afd, arbre_t* arbre, alphabet_t* sigma, char* tableau_de_delinearisation) {\n",
    "    // /!\\ l'arbre toujours linéarisé\n",
    "    afg_t* afg = creer_afg(sigma, afd->taille_Q);\n",
    "\n",
    "    // même état initial\n",
    "    afg->initiaux[afd->initial] = true;\n",
    "\n",
    "    // même états finaux\n",
    "    for (int q = 0; q < afd->taille_Q; q++) {\n",
    "        afg->finaux[q] = afd->finaux[q];\n",
    "    }\n",
    "\n",
    "    // On reconstruit les bonnes transitions\n",
    "    int index = 0;\n",
    "    if (arbre != NULL) delineariser_afd_recursivement(afd, arbre, tableau_de_delinearisation, &index, afg);\n",
    "\n",
    "    // /!\\ l'arbre a été linéarisé en même temps que l'afd\n",
    "    return afg;\n",
    "}\n",
    "```"
   ]
  },
  {
   "cell_type": "markdown",
   "metadata": {},
   "source": [
    "Les commentaires dans le code suffisent."
   ]
  },
  {
   "cell_type": "markdown",
   "metadata": {},
   "source": [
    "```C\n",
    "void delineariser_afd_recursivement (afd_t* afd, arbre_t* arbre, char* tab, int* index_ptr, afg_t* afg) {\n",
    "    assert(arbre != NULL);\n",
    "    switch (arbre->c) {\n",
    "        case '@': \n",
    "            delineariser_afd_recursivement(afd, arbre->fils_gauche, tab, index_ptr, afg);\n",
    "            delineariser_afd_recursivement(afd, arbre->fils_droit, tab, index_ptr, afg);\n",
    "            break;\n",
    "        case '|': \n",
    "            delineariser_afd_recursivement(afd, arbre->fils_gauche, tab, index_ptr, afg);\n",
    "            delineariser_afd_recursivement(afd, arbre->fils_droit, tab, index_ptr, afg);\n",
    "            break;\n",
    "        case '*': \n",
    "            delineariser_afd_recursivement(afd, arbre->fils_gauche, tab, index_ptr, afg);\n",
    "            break;\n",
    "        case '?': // Binaire : e? -> l'expression e zéro ou une fois\n",
    "            delineariser_afd_recursivement(afd, arbre->fils_gauche, tab, index_ptr, afg);\n",
    "            break;\n",
    "        case '.': // Joker : désigne n'importe quel caractère\n",
    "            fprintf(stderr, \"Il ne peut y avoir de joker dans un arbre linéarisé\\n\"); // (1)\n",
    "            assert(true);\n",
    "            break;\n",
    "        default:  // Lettre\n",
    "            if (tab[*index_ptr] == '.') { // (2)\n",
    "                for (int q = 0; q < afd->taille_Q; q++) {\n",
    "                    int q_prime = afd->delta[q][meta_char_to_int(arbre->c)];\n",
    "                    if (q_prime != -1) {\n",
    "                        afg->sigma_transitions[q] = ajouter_entier(afg->sigma_transitions[q], q_prime);\n",
    "                    }\n",
    "                }\n",
    "                arbre->c = '.';\n",
    "            }\n",
    "            else {\n",
    "                for (int q = 0; q < afd->taille_Q; q++) { // (3)\n",
    "                    int a_afd = meta_char_to_int(arbre->c);\n",
    "                    int q_prime = afd->delta[q][a_afd];\n",
    "                    if (q_prime != -1) {\n",
    "                        int a_afg = afg->sigma->lettres_to_index[(int)tab[*index_ptr]];\n",
    "                        afg->delta[q][a_afg] = ajouter_entier(afg->delta[q][a_afg], q_prime);\n",
    "                    }\n",
    "                }\n",
    "                arbre->c = tab[*index_ptr];\n",
    "            }\n",
    "            (*index_ptr)++;\n",
    "            break;\n",
    "    }\n",
    "}\n",
    "```"
   ]
  },
  {
   "cell_type": "markdown",
   "metadata": {},
   "source": [
    "1. Cette erreur ne peut pas être déclenchée par un comportement malvaillant de l'utilisateur, elle indiquerait plutôt un (gros) problème dans le code.\n",
    "2. Si l'opérateur \"non linéarisé\" est un joker alors la transition dans l'AFD apparaît comme une $\\Sigma$-transition dans l'AFG.\n",
    "3. Si l'opérateur \"non linéarisé\" est une lettre alors la transition est conservée telle quelle."
   ]
  },
  {
   "cell_type": "markdown",
   "metadata": {},
   "source": [
    "### E. *`berry_sethi`*"
   ]
  },
  {
   "cell_type": "markdown",
   "metadata": {},
   "source": [
    "```C\n",
    "afg_t* berry_sethi (arbre_t* arbre) {\n",
    "    // linéarisation de l'expression regulière\n",
    "    int nb_lettres = compter_lettres(arbre);\n",
    "    int nb_jokers = compter_jokers(arbre);\n",
    "    alphabet_t* sigma = creer_alphabet(arbre);\n",
    "    char* tableau_de_delinearisation = lineariser(arbre);\n",
    "\n",
    "    // Calcul des ensembles P, D et F\n",
    "    liste_lettres_t* P = calculer_P(arbre);\n",
    "    liste_lettres_t* D = calculer_D(arbre);\n",
    "    liste_facteurs_t* F = calculer_F(arbre);\n",
    "\n",
    "    // initialisation afd vide avec pour état initial 0\n",
    "    afd_t* afd = creer_afd(nb_lettres+nb_jokers, nb_lettres+nb_jokers+1);\n",
    "\n",
    "    // gestion des états \"initiaux\"\n",
    "    liste_lettres_t* initial_courant = P;\n",
    "    while (initial_courant != NULL) {\n",
    "        afd->delta[0][meta_char_to_int(initial_courant->head)]=meta_char_to_int(initial_courant->head)+1;//*\n",
    "        initial_courant = initial_courant->tail;\n",
    "    }\n",
    "    liberer_liste_lettres(P);\n",
    "\n",
    "    // gestion des états finaux\n",
    "    liste_lettres_t* final_courant = D;\n",
    "    while (final_courant != NULL) {\n",
    "        afd->finaux[meta_char_to_int(final_courant->head)+1] = true; //*\n",
    "        final_courant = final_courant->tail;\n",
    "    }\n",
    "    liberer_liste_lettres(D);\n",
    "    if (contient_epsilon(arbre)) afd->finaux[0] = true;\n",
    "\n",
    "    // gestion des transitions\n",
    "    liste_facteurs_t* liaison_courante = F;\n",
    "    while (liaison_courante != NULL) {\n",
    "        int q = meta_char_to_int(liaison_courante->head.first)+1; //*\n",
    "        int a = meta_char_to_int(liaison_courante->head.second);\n",
    "        int q_prime = meta_char_to_int(liaison_courante->head.second)+1; //*\n",
    "        afd->delta[q][a] = q_prime;\n",
    "        liaison_courante = liaison_courante->tail;\n",
    "    }\n",
    "    liberer_liste_facteurs(F);\n",
    "\n",
    "    // déliniarisation\n",
    "    afg_t* afg = delineariser_afd(afd, arbre, sigma, tableau_de_delinearisation);\n",
    "\n",
    "    // on fait le ménage et on renvoie\n",
    "    free(tableau_de_delinearisation);\n",
    "    liberer_afd(afd);\n",
    "    return afg;\n",
    "}\n",
    "```"
   ]
  },
  {
   "cell_type": "markdown",
   "metadata": {},
   "source": [
    "On rassemble toutes les éléments et fonctions que l'on a construit plus tôt. \\\n",
    "Les commentaires dans le codes suffisent. \\\n",
    "\\* les `+1` sont ici car j'ai choisi que l'état initial soit l'état 0, ainsi il faut \"décaler\" tous les autres états."
   ]
  },
  {
   "cell_type": "markdown",
   "metadata": {},
   "source": [
    "### F. *`construire_automate`*"
   ]
  },
  {
   "cell_type": "markdown",
   "metadata": {},
   "source": [
    "```C\n",
    "afg_t* construire_automate(char* expression) {\n",
    "    arbre_t* arbre = arboriser(expression);\n",
    "    afg_t* automate = berry_sethi(arbre);\n",
    "    liberer_arbre(arbre);\n",
    "    return automate;\n",
    "}\n",
    "```"
   ]
  },
  {
   "cell_type": "markdown",
   "metadata": {},
   "source": [
    "## 5. Lire un mot dans un automate fini \"généralisé\""
   ]
  },
  {
   "cell_type": "markdown",
   "metadata": {},
   "source": [
    "``` C\n",
    "void modifier_tableau_avec_liste_entiers (bool* tableau, liste_entiers_t* liste) {\n",
    "    while (liste != NULL) {\n",
    "        tableau[liste->head] = true;\n",
    "        liste = liste->tail;\n",
    "    }\n",
    "}\n",
    "```"
   ]
  },
  {
   "cell_type": "markdown",
   "metadata": {},
   "source": [
    "On représente les ensembles d'états avec des tableaux booléens, j'aurais pu créer un type **`ensemble_entiers_t`** sur le modèle de **`ensemble_lettres_t`** pour optimiser *`afg_reconnait`*. Et donc implémenter *`union_ensemble_entiers`*. C'est une piste d'améliorations possible."
   ]
  },
  {
   "cell_type": "markdown",
   "metadata": {},
   "source": [
    "```C\n",
    "bool afg_reconnait (afg_t* afg, char* mot) {\n",
    "    // ensemble d'états initiaux\n",
    "    bool* meta_etat_courant = malloc(sizeof(bool)* afg->taille_Q);\n",
    "    bool* prochain_meta_etat = malloc(sizeof(bool) * afg->taille_Q);\n",
    "    for (int q = 0; q < afg->taille_Q; q++) {\n",
    "        meta_etat_courant[q] = afg->initiaux[q];\n",
    "        prochain_meta_etat[q] = false;\n",
    "    }\n",
    "\n",
    "    // lecture du mot\n",
    "    int i = 0;\n",
    "    while(mot[i] != '\\0' && mot[i] != '\\n') { // (1)\n",
    "\n",
    "        // Calcul du prochain \"meta-état\"\n",
    "        for (int q = 0; q < afg->taille_Q; q++) { // (2)\n",
    "            if (meta_etat_courant[q]) {\n",
    "                modifier_tableau_avec_liste_entiers(prochain_meta_etat, afg->sigma_transitions[q]); // (A)\n",
    "                int a = afg->sigma->lettres_to_index[(int)mot[i]]; // (B)\n",
    "                if (a != -1) { \n",
    "                    modifier_tableau_avec_liste_entiers(prochain_meta_etat, afg->delta[q][a]);\n",
    "                }\n",
    "            }\n",
    "        }\n",
    "\n",
    "        // Mise à jour du \"méta-état\" courant\n",
    "        for (int q = 0; q < afg->taille_Q; q++) { // (3)\n",
    "            meta_etat_courant[q] = prochain_meta_etat[q];\n",
    "            prochain_meta_etat[q] = false;\n",
    "        }\n",
    "\n",
    "        i++;\n",
    "    }\n",
    "\n",
    "    // On regarde l'intersection entre l'ensemble d'état d'arrivés (le \"méta-état\" d'arrivé) et l'ensemble des états finaux de l'automate\n",
    "    for (int q = 0; q < afg->taille_Q; q++) {\n",
    "        if (meta_etat_courant[q] && afg->finaux[q]) {\n",
    "            free(meta_etat_courant);\n",
    "            free(prochain_meta_etat);\n",
    "            return true;\n",
    "        }\n",
    "    }\n",
    "\n",
    "    free(meta_etat_courant);\n",
    "    free(prochain_meta_etat);\n",
    "    return false;\n",
    "}\n",
    "```"
   ]
  },
  {
   "cell_type": "markdown",
   "metadata": {},
   "source": [
    "Un \"méta-état\" est un ensemble d'états de l'automate.\n",
    "Détaillons la lecture du mot dans l'automate :\n",
    "1. On met à jour le \"méta-état\" courant pour chaque lettre du mot\n",
    "2. Pour chaque état dans le \"méta-état courant\"\n",
    "    1. On regarde les $\\Sigma$-transitions\n",
    "    2. Et si la lettre appartient à l'alphabet alors on regarde les transitions \"classiques\".\n",
    "3. On met à jour le \"méta-état\" courant à l'aide du \"méta-état\" calculé."
   ]
  },
  {
   "cell_type": "markdown",
   "metadata": {},
   "source": [
    "## 6. Test"
   ]
  },
  {
   "cell_type": "markdown",
   "metadata": {},
   "source": [
    "### A. Question 2"
   ]
  },
  {
   "cell_type": "markdown",
   "metadata": {},
   "source": [
    "mots de la langue française qui contiennent à la fois un q et un w.\n",
    "- `commande`\n",
    "```bash\n",
    "./mygrep '.*q.*w.*@@@@.*w.*q.*@@@@|' Donnees_grep/francais.txt \n",
    "```\n",
    "- `sortie`\n",
    "```\n",
    "clownesque\n",
    "clownesques\n",
    "squaw\n",
    "squaws\n",
    "wisigothique\n",
    "wisigothiques\n",
    "```\n",
    "- `temps`\n",
    "```\n",
    "real\t0m0.186s\n",
    "user\t0m0.186s\n",
    "sys\t0m0.000s\n",
    "```\n",
    "\n",
    "Comparons avec la commandes grep :\n",
    "- `commande`\n",
    "```bash\n",
    "grep -E '(q.*w)|(w.*q)' Donnees_grep/francais.txt \n",
    "```\n",
    "- `sortie`\n",
    "```\n",
    "clownesque\n",
    "clownesques\n",
    "squaw\n",
    "squaws\n",
    "wisigothique\n",
    "wisigothiques\n",
    "```\n",
    "- `temps`\n",
    "```\n",
    "real\t0m0.005s\n",
    "user\t0m0.005s\n",
    "sys\t0m0.000s\n",
    "```"
   ]
  },
  {
   "cell_type": "markdown",
   "metadata": {},
   "source": [
    "### B. Question 3"
   ]
  },
  {
   "cell_type": "markdown",
   "metadata": {},
   "source": [
    "- `commandes`\n",
    "```bash\n",
    "./mygrep 'aa?@*' Donnees_grep/aXXb.txt\n",
    "```\n",
    "```bash\n",
    "grep -E '^(aa?)*$' Donnees_grep/aXXb.txt\n",
    "```\n",
    "- `temps (\"réels\")`\n",
    "|XX|./mygrep|-grep|\n",
    "|-|-|-|\n",
    "|20|0.001s|0.002s|\n",
    "|25|0.003s|0.001s|\n",
    "|30|0.002s|0.003s|\n",
    "|35|0.002s|0.002s|\n",
    "|40|0.003s|0.002s|\n",
    "|1000000*|0.025s|0.009s|"
   ]
  },
  {
   "cell_type": "markdown",
   "metadata": {},
   "source": [
    "\\*  - Pour ce test on a modifié légerement la fonction *`main`* :\n",
    "```C\n",
    "size_t taille_zone_tampon = 1000001;\n",
    "```\n",
    "et on a utiliser ce code (python) pour générer a1Mb.txt :\n",
    "```python\n",
    "file1 = open('a1Mb.txt', 'w')\n",
    "a1Mb = \"a\"*(10**6)+\"b\"\n",
    "file1.write(a1Mb)\n",
    "file1.close()\n",
    "```"
   ]
  },
  {
   "cell_type": "markdown",
   "metadata": {},
   "source": [
    "- `commentaire` \\\n",
    "Sur des entrées \"normales\" les temps sont trop petits pour être comparés. Sur les plus \"gros\" test (français.txt et a1Mb.txt) on voit très clairement la rapidité de `grep` mais ça reste satisfaisant."
   ]
  },
  {
   "cell_type": "markdown",
   "metadata": {},
   "source": [
    "### C. batterie de test supplémentaire"
   ]
  },
  {
   "cell_type": "markdown",
   "metadata": {},
   "source": [
    "`test.txt`\n",
    "\n",
    "----\n",
    "```\n",
    "a\n",
    "\n",
    "\\n\n",
    "\\0\n",
    "|\n",
    ".\n",
    "@\n",
    "*\n",
    "?\n",
    "é\n",
    "學\n",
    "Eliott\n",
    "\n",
    "```\n",
    "----\n",
    "(il y a une ligne vide à la fin)\n",
    "\n",
    "On test, dans l'ordre des ligne :\n",
    "1. un unique caractère\n",
    "2. une ligne vide (donc juste '\\n'). Pour tester le langage vide.\n",
    "3. une ligne avec les caractères \\ et n. Pour essayer de tromper l'ennemi.\n",
    "4. idem\n",
    "5. Un opérateur.\n",
    "6. idem\n",
    "7. idem\n",
    "8. idem\n",
    "9. idem\n",
    "10. ascii étendu\n",
    "11. l'idéogramme chinois (signifiant apprendre, connaissance, école...) de code unicode U+5B78\n",
    "12. une ligne classique (le témoin)\n",
    "13. une ligne vide (vraiment vide sans retour à la ligne)"
   ]
  },
  {
   "cell_type": "markdown",
   "metadata": {},
   "source": [
    "**test `1`**\n",
    "- `commande`\n",
    "```bash\n",
    "./mygrep '.' test.txt\n",
    "```\n",
    "- `sortie`\n",
    "```\n",
    "a\n",
    "|\n",
    ".\n",
    "@\n",
    "*\n",
    "?\n",
    "```\n",
    "- `commande`\n",
    "```bash\n",
    "grep -E '^.$' test.txt\n",
    "```\n",
    "- `sortie`\n",
    "```\n",
    "a\n",
    "|\n",
    ".\n",
    "@\n",
    "*\n",
    "?\n",
    "é\n",
    "學\n",
    "```\n",
    "- `commentaire` \\\n",
    "`mygrep` se comporte mal, mais comme prévu, il ne gère pas les caractère non ascii. "
   ]
  },
  {
   "cell_type": "markdown",
   "metadata": {},
   "source": [
    "**test `2`**\n",
    "- `commande`\n",
    "```bash\n",
    "./mygrep '..@' test.txt\n",
    "```\n",
    "- `sortie`\n",
    "```\n",
    "\\n\n",
    "\\0\n",
    "é\n",
    "```\n",
    "- `commande`\n",
    "```bash\n",
    "grep -E '^..$' test.txt\n",
    "```\n",
    "- `sortie`\n",
    "```\n",
    "\\n\n",
    "\\0\n",
    "```\n",
    "- `commentaire` \\\n",
    "Il semblerait que `é` soit considéré comme 2 caractères. Mais encore une fois mygrep échoue seulement là où on l'attend."
   ]
  },
  {
   "cell_type": "markdown",
   "metadata": {},
   "source": [
    "**test `3`**\n",
    "- `commande`\n",
    "```bash\n",
    "./mygrep '' test.txt\n",
    "```\n",
    "- `sortie`\n",
    "```\n",
    "\n",
    "\n",
    "```\n",
    "(2 lignes vides)\n",
    "- `commande`\n",
    "```bash\n",
    "grep -E '^$' test.txt\n",
    "```\n",
    "- `sortie`\n",
    "```\n",
    "\n",
    "\n",
    "```\n",
    "(idem, 2 lignes vides)\n",
    "- `commentaire`\\\n",
    "Sans fautes; on a penser notre code pour ça (cf 4.B.c.i Cas du langage vide)"
   ]
  },
  {
   "cell_type": "markdown",
   "metadata": {},
   "source": [
    "**test `4`**\n",
    "- `commande`\n",
    "```bash\n",
    "./mygrep '.*' test.txt\n",
    "```\n",
    "- `sortie`\n",
    "```\n",
    "a\n",
    "\n",
    "\\n\n",
    "\\0\n",
    "|\n",
    ".\n",
    "@\n",
    "*\n",
    "?\n",
    "é\n",
    "學\n",
    "eliott\n",
    "\n",
    "\n",
    "```\n",
    "(il y a une ligne vide à la fin)\n",
    "- `commande`\n",
    "```bash\n",
    "grep -E '^.*$' test.txt\n",
    "```\n",
    "- `sortie`\n",
    "```\n",
    "a\n",
    "\n",
    "\\n\n",
    "\\0\n",
    "|\n",
    ".\n",
    "@\n",
    "*\n",
    "?\n",
    "é\n",
    "學\n",
    "eliott\n",
    "\n",
    "\n",
    "```\n",
    "(idem, il y a une ligne vide à la fin)\n",
    "- `commentaire` \\\n",
    "Je suis impressionné du résultat de ce test et je ne sais l'expliquer."
   ]
  },
  {
   "cell_type": "markdown",
   "metadata": {},
   "source": [
    "**test `5`**\n",
    "- `commande`\n",
    "```bash\n",
    "./mygrep '...@@' test.txt\n",
    "```\n",
    "- `sortie`\n",
    "```\n",
    "Segmentation fault\n",
    "```\n",
    "- `commande`\n",
    "```bash\n",
    "grep -E '^...$' test.txt\n",
    "```\n",
    "- `sortie`\n",
    "```\n",
    "```\n",
    "- `commentaire` \\\n",
    "Avec un débuggage supplémentaire on voit que l'erreur `Segmentation fault` est soulevée lors du traitement de `學`. Le bug n'est donc ni surprenant, ni inquiétant et doit être lié à l'encodage de `學`."
   ]
  },
  {
   "cell_type": "markdown",
   "metadata": {},
   "source": [
    "**test `6`**\n",
    "- `commande`\n",
    "```bash\n",
    "./mygrep 'é' test.txt\n",
    "```\n",
    "- `sortie`\n",
    "```\n",
    "ERREUR : tentative d'insertion dans un arbre complet.\n",
    "```\n",
    "- `commande`\n",
    "```bash\n",
    "grep -E '^é$' test.txt\n",
    "```\n",
    "- `sortie`\n",
    "```\n",
    "é\n",
    "```\n",
    "- `commentaire` \\\n",
    "C'est cohérent avec le **test `2`**. À noté que l'erreur n'est pas bloquante dans le code donc si aucune ligne n'est affichée après l'erreur c'est qu'aucune ligne ne correspond au premier caractère mystère qui compose `é`."
   ]
  },
  {
   "cell_type": "markdown",
   "metadata": {},
   "source": [
    "**test `7`**\n",
    "- `commande`\n",
    "```bash\n",
    "./mygrep '學' test.txt\n",
    "```\n",
    "- `sortie`\n",
    "```\n",
    "ERREUR : tentative d'insertion dans un arbre complet.\n",
    "ERREUR : tentative d'insertion dans un arbre complet.\n",
    "```\n",
    "- `commande`\n",
    "```bash\n",
    "grep -E '^學$' test.txt\n",
    "```\n",
    "- `sortie`\n",
    "```\n",
    "學\n",
    "```\n",
    "- `commentaire` \\\n",
    "Plus surprenant, le programme se comporte comme si l'on essayait d'insérer 3 lettres dans un arbre. Avec l'addition des résultats des **test `2` et `5`**, je conjecture que le caractère `學` est encodé sur 25 à 31 bits, c'est à dire sctrictement plus de 3 octects et strictement moins de 4 octets."
   ]
  },
  {
   "cell_type": "markdown",
   "metadata": {},
   "source": [
    "**test `8`**\n",
    "- `commande`\n",
    "```bash\n",
    "./mygrep '\\.@' test.txt\n",
    "```\n",
    "- `sortie`\n",
    "```\n",
    "\\n\n",
    "\\0\n",
    "é\n",
    "```\n",
    "- `commande`\n",
    "```bash\n",
    "grep -E '^\\\\.$' test.txt\n",
    "```\n",
    "- `sortie`\n",
    "```\n",
    "\\n\n",
    "\\0\n",
    "```\n",
    "- `commentaire` \\\n",
    "`\\`, voilà l'identité du premier caractère mystère du couple de caractère qui forme `é`."
   ]
  },
  {
   "cell_type": "markdown",
   "metadata": {},
   "source": [
    "**test `9`**\n",
    "- `commande`\n",
    "```bash\n",
    "time ./mygrep '.?.?.?.?.?.?.?.?.?.?.?.?.?.?.?.?.?.?.?.?.?.?.?.?.?.?.?.?.?.?.?.?.?.?.?.?.?.?.?.?.?.?.?.?.?.?.?.?.?.?.?.?.?.?.?.?.?.?.?.?.?.?.?.?.?.?.?.?.?.?.?.?.?.?.?.?.?.?.?.?.?.?.?.?.?.?.?.?.?.?.?.?.?.?.?.?.?.?.?.?@@@@@@@@@@@@@@@@@@@@@@@@@@@@@@@@@@@@@@@@@@@@@@@@@@@@@@@@@@@@@@@@@@@@@@@@@@@@@@@@@@@@@@@@@@@@@@@@@@@' Donnees_grep/a20b.txt\n",
    "```\n",
    "- `sortie`\n",
    "```\n",
    "aaaaaaaaaaaaaaaaaaaab\n",
    "\n",
    "real\t0m0.021s\n",
    "user\t0m0.021s\n",
    "sys\t0m0.000s\n",
    "```\n",
    "- `commande`\n",
    "```bash\n",
    "time grep -E '^.?.?.?.?.?.?.?.?.?.?.?.?.?.?.?.?.?.?.?.?.?.?.?.?.?.?.?.?.?.?.?.?.?.?.?.?.?.?.?.?.?.?.?.?.?.?.?.?.?.?.?.?.?.?.?.?.?.?.?.?.?.?.?.?.?.?.?.?.?.?.?.?.?.?.?.?.?.?.?.?.?.?.?.?.?.?.?.?.?.?.?.?.?.?.?.?.?.?.?.?$' Donnees_grep/a20b.txt\n",
    "```\n",
    "- `sortie`\n",
    "```\n",
    "aaaaaaaaaaaaaaaaaaaab\n",
    "\n",
    "real\t0m0.012s\n",
    "user\t0m0.012s\n",
    "sys\t0m0.000s\n",
    "```\n",
    "- `commentaire`\n",
    "Ce petit test permet de comparer `grep` et `mygrep` sur la taille de l'expression régulière et non sur la taille du fichier : il y a 100 `.?`. Le résultat est satisfaisant et même mieux qu'attendu."
   ]
  },
  {
   "cell_type": "markdown",
   "metadata": {},
   "source": [
    "**test `10`** (promis c'est le dernier)\n",
    "- `commandes`\n",
    "```bash\n",
    "touch test2.txt\n",
    "./mygrep '' test2.txt\n",
    "rm test2.txt\n",
    "```\n",
    "- `sortie`\n",
    "```\n",
    "```\n",
    "- `commande`\n",
    "```bash\n",
    "touch test2.txt\n",
    "grep -E '^$' test2.txt\n",
    "rm test2.txt\n",
    "```\n",
    "- `sortie`\n",
    "```\n",
    "```\n",
    "- `commentaire` \\\n",
    "Plus vide que ça, on ne peut pas faire. Il est normal que `mygrep` reste correct dans car il y a **aucune** ligne, ainsi il ne rentre pas dans la boucle principale :\n",
    "```C\n",
    "while (getline(&zone_tampon, &taille_zone_tampon, fichier) != EOF) { ... }\n",
    "```"
   ]
  },
  {
   "cell_type": "markdown",
   "metadata": {},
   "source": [
    "## 7. Commentaires"
   ]
  },
  {
   "cell_type": "markdown",
   "metadata": {},
   "source": [
    "Le code compile sans erreur ni avertissement avec :\n",
    "```bash\n",
    "gcc mygrep.c -o mygrep -Wall -Wextra -fsanitize=address -g\n",
    "```"
   ]
  }
 ],
 "metadata": {
  "kernelspec": {
   "display_name": "Python 3 (ipykernel)",
   "language": "python",
   "name": "python3"
  },
  "language_info": {
   "codemirror_mode": {
    "name": "ipython",
    "version": 3
   },
   "file_extension": ".py",
   "mimetype": "text/x-python",
   "name": "python",
   "nbconvert_exporter": "python",
   "pygments_lexer": "ipython3",
   "version": "3.11.2"
  }
 },
 "nbformat": 4,
 "nbformat_minor": 2
}
